{
 "cells": [
  {
   "cell_type": "code",
   "execution_count": 1,
   "metadata": {},
   "outputs": [],
   "source": [
    "import pandas as pd\n",
    "import censusdata\n",
    "import os\n",
    "from tqdm import tqdm\n",
    "pd.set_option('display.expand_frame_repr', False)\n",
    "pd.set_option('display.precision', 2)\n",
    "# os.chdir('/media/data/athena/census/')"
   ]
  },
  {
   "cell_type": "code",
   "execution_count": 2,
   "metadata": {},
   "outputs": [],
   "source": [
    "v1 = list(censusdata.censustable('acs5', 2018, 'B01001').keys())\n",
    "v2 = list(censusdata.censustable('acs5', 2018, 'B02001').keys())\n",
    "v3 = ['B12001_001E', 'B12001_002E', 'B12001_003E', 'B12001_004E', 'B12001_009E', 'B12001_010E', 'B12001_011E', 'B12001_012E', 'B12001_013E', 'B12001_018E', 'B12001_019E']\n",
    "v4 = list(censusdata.censustable('acs5', 2018, 'B16001').keys())\n",
    "v5 = list(censusdata.censustable('acs5', 2018, 'C17002').keys())\n",
    "v6 = ['B06010_001E', 'B06010_002E', 'B06010_003E', 'B06010_004E', 'B06010_005E', 'B06010_006E', 'B06010_007E', 'B06010_008E', 'B06010_009E', 'B06010_010E', 'B06010_011E', 'B19058_001E', 'B19058_002E', 'B19058_003E', 'B21001_001E', 'B21001_002E', 'B21001_003E']\n",
    "v7 = list(censusdata.censustable('acs5', 2018, 'B23001').keys())\n",
    "v8 = ['B23006_001E', 'B23006_002E', 'B23006_009E', 'B23006_023E']\n",
    "variables = v1+v2+v3+v4+v5+v6+v7+v8"
   ]
  },
  {
   "cell_type": "code",
   "execution_count": 3,
   "metadata": {},
   "outputs": [],
   "source": [
    "geo = censusdata.geographies(censusdata.censusgeo([('state', '*')]), 'acs5', 2018)\n",
    "for i in ['Puerto Rico', 'Alaska', 'Hawaii',]:\n",
    "    try:\n",
    "        geo.pop(i)\n",
    "    except:\n",
    "        pass"
   ]
  },
  {
   "cell_type": "code",
   "execution_count": null,
   "metadata": {},
   "outputs": [
    {
     "name": "stderr",
     "output_type": "stream",
     "text": [
      " 20%|████████████████▋                                                                 | 10/49 [02:02<09:23, 14.46s/it]"
     ]
    }
   ],
   "source": [
    "source = 'acs5'\n",
    "year = 2018\n",
    "dfs = []\n",
    "for i, v in tqdm(geo.items()):\n",
    "    geographies = censusdata.censusgeo([v.geo[0], ('county', '*'), ('tract', '*')])\n",
    "    df = censusdata.download(source, year, geographies, variables)\n",
    "    dfs.append(df)\n",
    "acs = pd.concat(dfs)"
   ]
  },
  {
   "cell_type": "code",
   "execution_count": null,
   "metadata": {},
   "outputs": [],
   "source": [
    "acs.to_csv('data/acs.csv')"
   ]
  },
  {
   "cell_type": "code",
   "execution_count": null,
   "metadata": {},
   "outputs": [],
   "source": [
    "acs = pd.read_csv('data/acs.csv', index_col=0)"
   ]
  },
  {
   "cell_type": "code",
   "execution_count": null,
   "metadata": {},
   "outputs": [],
   "source": [
    "acs.index.to_series().apply(extract_gidtr).values"
   ]
  },
  {
   "cell_type": "code",
   "execution_count": null,
   "metadata": {},
   "outputs": [],
   "source": [
    "import re\n",
    "\n",
    "def extract_gidtr(text):\n",
    "    state = re.findall('state:([0-9]{2}?)>', text)[0]\n",
    "    county = re.findall('county:([0-9]{3}?)>', text)[0]\n",
    "    tract = re.findall('tract:([0-9]{6}?)$', text)[0]\n",
    "    gidtr = state+county+tract\n",
    "    return int(gidtr)"
   ]
  },
  {
   "cell_type": "code",
   "execution_count": null,
   "metadata": {},
   "outputs": [],
   "source": [
    "acs['GIDTR'] = acs.index.to_series().apply(extract_gidtr).values"
   ]
  },
  {
   "cell_type": "code",
   "execution_count": null,
   "metadata": {},
   "outputs": [],
   "source": [
    "# Download census planning data \"https://www2.census.gov/adrm/PDB/2018/docs/pdb2018trv4_us.zip\"\n",
    "cp = pd.read_csv('data/pdb2018trv4_us.csv', encoding = \"ISO-8859-1\", usecols=['GIDTR', 'State', 'State_name', 'County', 'County_name', 'Tract', 'LAND_AREA', 'Tot_Population_CEN_2010', 'Tot_Population_ACS_12_16'])"
   ]
  },
  {
   "cell_type": "code",
   "execution_count": null,
   "metadata": {},
   "outputs": [],
   "source": [
    "data = pd.merge(acs, cp, on='GIDTR')"
   ]
  },
  {
   "cell_type": "code",
   "execution_count": null,
   "metadata": {},
   "outputs": [],
   "source": [
    "data.to_csv('data/acs_planning.csv')"
   ]
  }
 ],
 "metadata": {
  "kernelspec": {
   "display_name": "Python 3",
   "language": "python",
   "name": "python3"
  },
  "language_info": {
   "codemirror_mode": {
    "name": "ipython",
    "version": 3
   },
   "file_extension": ".py",
   "mimetype": "text/x-python",
   "name": "python",
   "nbconvert_exporter": "python",
   "pygments_lexer": "ipython3",
   "version": "3.7.3"
  },
  "metadata": {
   "interpreter": {
    "hash": "2d48ca831e1f805ab07ec204aa5856416dda77203493de45b98504a1a68d2e35"
   }
  }
 },
 "nbformat": 4,
 "nbformat_minor": 2
}
